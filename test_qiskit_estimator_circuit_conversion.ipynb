{
 "cells": [
  {
   "cell_type": "code",
   "execution_count": 1,
   "metadata": {},
   "outputs": [],
   "source": [
    "from qiskit_ibm_runtime import QiskitRuntimeService, Options, Sampler, Session, Estimator\n",
    "\n",
    "from qiskit.transpiler.preset_passmanagers import generate_preset_pass_manager\n",
    "\n",
    "from torchquantum.measurement import expval_joint_analytical, expval_joint_sampling, expval_joint_sampling_grouping"
   ]
  },
  {
   "cell_type": "code",
   "execution_count": 2,
   "metadata": {},
   "outputs": [],
   "source": [
    "import math\n",
    "import pdb\n",
    "import numpy as np\n",
    "import torch\n",
    "import torch.nn as nn\n",
    "import torch.nn.functional as F\n",
    "from torch.nn.utils.rnn import pad_sequence\n",
    "\n",
    "import torchquantum as tq\n",
    "import torchquantum.functional as tqf\n",
    "from torchquantum.plugin.qiskit import tq2qiskit\n"
   ]
  },
  {
   "cell_type": "code",
   "execution_count": 5,
   "metadata": {},
   "outputs": [],
   "source": [
    "from dotenv import dotenv_values\n",
    "\n",
    "config = dotenv_values(\".env\")"
   ]
  },
  {
   "cell_type": "code",
   "execution_count": 6,
   "metadata": {},
   "outputs": [],
   "source": [
    "service = QiskitRuntimeService(channel=\"ibm_quantum\", token=config[\"IBM_TOKEN\"])\n",
    "options = Options(optimization_level=1, execution={\"shots\":32})"
   ]
  },
  {
   "cell_type": "code",
   "execution_count": 8,
   "metadata": {},
   "outputs": [
    {
     "data": {
      "text/plain": [
       "[<IBMBackend('simulator_statevector')>,\n",
       " <IBMBackend('simulator_stabilizer')>,\n",
       " <IBMBackend('ibm_kyoto')>,\n",
       " <IBMBackend('ibm_osaka')>,\n",
       " <IBMBackend('simulator_mps')>,\n",
       " <IBMBackend('simulator_extended_stabilizer')>,\n",
       " <IBMBackend('ibm_brisbane')>,\n",
       " <IBMBackend('ibm_sherbrooke')>,\n",
       " <IBMBackend('ibmq_qasm_simulator')>]"
      ]
     },
     "execution_count": 8,
     "metadata": {},
     "output_type": "execute_result"
    }
   ],
   "source": [
    "service.backends()"
   ]
  },
  {
   "cell_type": "code",
   "execution_count": 9,
   "metadata": {},
   "outputs": [],
   "source": [
    "backend = service.backend(\"ibmq_qasm_simulator\")"
   ]
  },
  {
   "cell_type": "markdown",
   "metadata": {},
   "source": [
    "----"
   ]
  },
  {
   "cell_type": "markdown",
   "metadata": {},
   "source": [
    "Little test backend service and Estimator :"
   ]
  },
  {
   "cell_type": "code",
   "execution_count": 10,
   "metadata": {},
   "outputs": [
    {
     "data": {
      "text/html": [
       "<pre style=\"word-wrap: normal;white-space: pre;background: #fff0;line-height: 1.1;font-family: &quot;Courier New&quot;,Courier,monospace\">     ┌───┐\n",
       "q_0: ┤ H ├\n",
       "     ├───┤\n",
       "q_1: ┤ X ├\n",
       "     └───┘\n",
       "c: 2/═════\n",
       "          </pre>"
      ],
      "text/plain": [
       "     ┌───┐\n",
       "q_0: ┤ H ├\n",
       "     ├───┤\n",
       "q_1: ┤ X ├\n",
       "     └───┘\n",
       "c: 2/═════\n",
       "          "
      ]
     },
     "execution_count": 10,
     "metadata": {},
     "output_type": "execute_result"
    }
   ],
   "source": [
    "from qiskit import QuantumCircuit\n",
    " \n",
    "qc = QuantumCircuit(2, 2)\n",
    "qc.h(0)\n",
    "#qc.h(1)\n",
    "#qc.h(0)\n",
    "#qc.h(1)\n",
    "#qc.x(0)\n",
    "qc.x(1)\n",
    "#qc.cnot(0,1)\n",
    "qc.draw()"
   ]
  },
  {
   "cell_type": "code",
   "execution_count": 11,
   "metadata": {},
   "outputs": [],
   "source": [
    "qdev = tq.QuantumDevice(n_wires=3, bsz=1, device=\"cpu\") # use device='cuda' for GPU\n"
   ]
  },
  {
   "cell_type": "code",
   "execution_count": 12,
   "metadata": {},
   "outputs": [],
   "source": [
    "class TQTest(tq.QuantumModule):\n",
    "        def __init__(self, n_qubits, *args, **kwargs):\n",
    "            super().__init__()\n",
    "            self.n_wires = n_qubits\n",
    "            #self.rx_0 = tq.RX(has_params=True, trainable=True)\n",
    "        @tq.static_support\n",
    "        def forward(self, q_device, return_q_dev=False):\n",
    "            tqf.h(q_device, wires=0, static=self.static_mode, parent_graph=self.graph)\n",
    "            tqf.h(q_device, wires=2, static=self.static_mode, parent_graph=self.graph) \n",
    "            tqf.x(q_device, wires=1, static=self.static_mode, parent_graph=self.graph)\n",
    "            #self.rx_0(q_device, wires=0)\n",
    "             \n",
    "            q_device = q_device.bfloat16()\n",
    "\n",
    "            if return_q_dev:\n",
    "                 return q_device\n"
   ]
  },
  {
   "cell_type": "code",
   "execution_count": 13,
   "metadata": {},
   "outputs": [],
   "source": [
    "tqtest = TQTest(n_qubits=3)"
   ]
  },
  {
   "cell_type": "code",
   "execution_count": 14,
   "metadata": {},
   "outputs": [],
   "source": [
    "for param in tqtest.parameters():\n",
    "    print(param)"
   ]
  },
  {
   "cell_type": "code",
   "execution_count": 15,
   "metadata": {},
   "outputs": [
    {
     "data": {
      "text/plain": [
       "[('III', tensor([1.])),\n",
       " ('IZI', tensor([-1.])),\n",
       " ('XXI', tensor([-0.1875])),\n",
       " ('ZII', tensor([-0.1875])),\n",
       " ('ZZI', tensor([0.1875]))]"
      ]
     },
     "execution_count": 15,
     "metadata": {},
     "output_type": "execute_result"
    }
   ],
   "source": [
    "observables = [\"III\", \"ZII\",\"ZZI\", \"XXI\", \"IZI\"]\n",
    "sorted(expval_joint_sampling_grouping(qdev=tqtest(qdev, return_q_dev=True), observables=observables, n_shots_per_group=32).items())"
   ]
  },
  {
   "cell_type": "code",
   "execution_count": 16,
   "metadata": {},
   "outputs": [],
   "source": [
    "qc_2 = tq2qiskit(q_device=qdev, m=tqtest)"
   ]
  },
  {
   "cell_type": "code",
   "execution_count": 17,
   "metadata": {},
   "outputs": [
    {
     "data": {
      "text/html": [
       "<pre style=\"word-wrap: normal;white-space: pre;background: #fff0;line-height: 1.1;font-family: &quot;Courier New&quot;,Courier,monospace\">     ┌───┐\n",
       "q_0: ┤ H ├\n",
       "     ├───┤\n",
       "q_1: ┤ X ├\n",
       "     └───┘\n",
       "c: 2/═════\n",
       "          </pre>"
      ],
      "text/plain": [
       "     ┌───┐\n",
       "q_0: ┤ H ├\n",
       "     ├───┤\n",
       "q_1: ┤ X ├\n",
       "     └───┘\n",
       "c: 2/═════\n",
       "          "
      ]
     },
     "execution_count": 17,
     "metadata": {},
     "output_type": "execute_result"
    }
   ],
   "source": [
    "qc.draw()"
   ]
  },
  {
   "cell_type": "code",
   "execution_count": 18,
   "metadata": {},
   "outputs": [
    {
     "data": {
      "text/html": [
       "<pre style=\"word-wrap: normal;white-space: pre;background: #fff0;line-height: 1.1;font-family: &quot;Courier New&quot;,Courier,monospace\">     ┌───┐\n",
       "q_0: ┤ H ├\n",
       "     ├───┤\n",
       "q_1: ┤ X ├\n",
       "     ├───┤\n",
       "q_2: ┤ H ├\n",
       "     └───┘</pre>"
      ],
      "text/plain": [
       "     ┌───┐\n",
       "q_0: ┤ H ├\n",
       "     ├───┤\n",
       "q_1: ┤ X ├\n",
       "     ├───┤\n",
       "q_2: ┤ H ├\n",
       "     └───┘"
      ]
     },
     "execution_count": 18,
     "metadata": {},
     "output_type": "execute_result"
    }
   ],
   "source": [
    "qc_2.draw()"
   ]
  },
  {
   "cell_type": "code",
   "execution_count": 19,
   "metadata": {},
   "outputs": [],
   "source": [
    "observables.sort()"
   ]
  },
  {
   "cell_type": "code",
   "execution_count": 20,
   "metadata": {},
   "outputs": [
    {
     "data": {
      "text/plain": [
       "['III', 'IZI', 'XXI', 'ZII', 'ZZI']"
      ]
     },
     "execution_count": 20,
     "metadata": {},
     "output_type": "execute_result"
    }
   ],
   "source": [
    "observables"
   ]
  },
  {
   "cell_type": "code",
   "execution_count": 21,
   "metadata": {},
   "outputs": [
    {
     "name": "stderr",
     "output_type": "stream",
     "text": [
      "/tmp/ipykernel_6976/2304185545.py:7: DeprecationWarning: Circuits that do not match the target hardware definition will no longer be supported after March 1, 2024. See the transpilation documentation (https://docs.quantum.ibm.com/transpile) for instructions to transform circuits and the primitive examples (https://docs.quantum.ibm.com/run/primitives-examples) to see this coupled with operator transformations.\n",
      "  job = estimator.run(circuits=[qc, qc], observables=observables)\n",
      "/home/jdine/miniconda3/envs/retnet_test/lib/python3.12/site-packages/qiskit_ibm_runtime/qiskit_runtime_service.py:935: UserWarning: Cloud simulators have been deprecated and will be removed on 15 May 2024. Use the new local testing mode in qiskit-ibm-runtime version 0.22.0 or later to meet your debugging needs.\n",
      "  warnings.warn(warning_message)\n"
     ]
    },
    {
     "name": "stdout",
     "output_type": "stream",
     "text": [
      "Estimator results: EstimatorResult(values=array([-1.   ,  0.125]), metadata=[{'variance': 0.0, 'shots': 32}, {'variance': 0.984375, 'shots': 32}])\n"
     ]
    }
   ],
   "source": [
    "observables = [\"ZI\", \"IZ\"]\n",
    "\n",
    "\n",
    "with Session(service=service, backend=backend) as session:\n",
    "\n",
    "    estimator = Estimator(session=session, options=options)\n",
    "    job = estimator.run(circuits=[qc, qc], observables=observables)\n",
    "    print(f\"Estimator results: {job.result()}\")"
   ]
  },
  {
   "cell_type": "code",
   "execution_count": 22,
   "metadata": {},
   "outputs": [],
   "source": [
    "pm = generate_preset_pass_manager(backend=backend, optimization_level=1)\n",
    "circ_test = pm.run(qc)"
   ]
  },
  {
   "cell_type": "code",
   "execution_count": 23,
   "metadata": {},
   "outputs": [
    {
     "data": {
      "text/html": [
       "<pre style=\"word-wrap: normal;white-space: pre;background: #fff0;line-height: 1.1;font-family: &quot;Courier New&quot;,Courier,monospace\">global phase: π/4\n",
       "     ┌─────────┐┌────┐┌─────────┐\n",
       "q_0: ┤ Rz(π/2) ├┤ √X ├┤ Rz(π/2) ├\n",
       "     └──┬───┬──┘└────┘└─────────┘\n",
       "q_1: ───┤ X ├────────────────────\n",
       "        └───┘                    \n",
       "c: 2/════════════════════════════\n",
       "                                 </pre>"
      ],
      "text/plain": [
       "global phase: π/4\n",
       "     ┌─────────┐┌────┐┌─────────┐\n",
       "q_0: ┤ Rz(π/2) ├┤ √X ├┤ Rz(π/2) ├\n",
       "     └──┬───┬──┘└────┘└─────────┘\n",
       "q_1: ───┤ X ├────────────────────\n",
       "        └───┘                    \n",
       "c: 2/════════════════════════════\n",
       "                                 "
      ]
     },
     "execution_count": 23,
     "metadata": {},
     "output_type": "execute_result"
    }
   ],
   "source": [
    "circ_test.draw()"
   ]
  },
  {
   "cell_type": "code",
   "execution_count": 24,
   "metadata": {},
   "outputs": [
    {
     "data": {
      "text/html": [
       "<pre style=\"word-wrap: normal;white-space: pre;background: #fff0;line-height: 1.1;font-family: &quot;Courier New&quot;,Courier,monospace\">global phase: π/2\n",
       "     ┌─────────┐┌────┐┌─────────┐\n",
       "q_0: ┤ Rz(π/2) ├┤ √X ├┤ Rz(π/2) ├\n",
       "     └──┬───┬──┘└────┘└─────────┘\n",
       "q_1: ───┤ X ├────────────────────\n",
       "     ┌──┴───┴──┐┌────┐┌─────────┐\n",
       "q_2: ┤ Rz(π/2) ├┤ √X ├┤ Rz(π/2) ├\n",
       "     └─────────┘└────┘└─────────┘</pre>"
      ],
      "text/plain": [
       "global phase: π/2\n",
       "     ┌─────────┐┌────┐┌─────────┐\n",
       "q_0: ┤ Rz(π/2) ├┤ √X ├┤ Rz(π/2) ├\n",
       "     └──┬───┬──┘└────┘└─────────┘\n",
       "q_1: ───┤ X ├────────────────────\n",
       "     ┌──┴───┴──┐┌────┐┌─────────┐\n",
       "q_2: ┤ Rz(π/2) ├┤ √X ├┤ Rz(π/2) ├\n",
       "     └─────────┘└────┘└─────────┘"
      ]
     },
     "execution_count": 24,
     "metadata": {},
     "output_type": "execute_result"
    }
   ],
   "source": [
    "pm = generate_preset_pass_manager(backend=backend, optimization_level=1)\n",
    "circ_test_2 = pm.run(qc_2)\n",
    "\n",
    "circ_test_2.draw()"
   ]
  },
  {
   "cell_type": "code",
   "execution_count": 11,
   "metadata": {},
   "outputs": [
    {
     "name": "stderr",
     "output_type": "stream",
     "text": [
      "/tmp/ipykernel_11621/457931810.py:7: DeprecationWarning: Circuits that do not match the target hardware definition will no longer be supported after March 1, 2024. See the transpilation documentation (https://docs.quantum.ibm.com/transpile) for instructions to transform circuits and the primitive examples (https://docs.quantum.ibm.com/run/primitives-examples) to see this coupled with operator transformations.\n",
      "  job = estimator.run(circuits=[circ_test, circ_test], observables=observables)\n",
      "/home/jesshuan/miniconda3/envs/torch_quantum/lib/python3.12/site-packages/qiskit_ibm_runtime/qiskit_runtime_service.py:935: UserWarning: Cloud simulators have been deprecated and will be removed on 15 May 2024. Use the new local testing mode in qiskit-ibm-runtime version 0.22.0 or later to meet your debugging needs.\n",
      "  warnings.warn(warning_message)\n"
     ]
    },
    {
     "name": "stdout",
     "output_type": "stream",
     "text": [
      "Estimator results: EstimatorResult(values=array([-1.,  0.]), metadata=[{'variance': 0.0, 'shots': 32}, {'variance': 1.0, 'shots': 32}])\n"
     ]
    }
   ],
   "source": [
    "observables = [\"ZI\", \"IZ\"]\n",
    "\n",
    "\n",
    "with Session(service=service, backend=backend) as session:\n",
    "\n",
    "    estimator = Estimator(session=session, options=options)\n",
    "    job = estimator.run(circuits=[circ_test, circ_test], observables=observables)\n",
    "    print(f\"Estimator results: {job.result()}\")"
   ]
  },
  {
   "cell_type": "code",
   "execution_count": 63,
   "metadata": {},
   "outputs": [
    {
     "name": "stderr",
     "output_type": "stream",
     "text": [
      "/tmp/ipykernel_11621/1729889922.py:7: DeprecationWarning: Circuits that do not match the target hardware definition will no longer be supported after March 1, 2024. See the transpilation documentation (https://docs.quantum.ibm.com/transpile) for instructions to transform circuits and the primitive examples (https://docs.quantum.ibm.com/run/primitives-examples) to see this coupled with operator transformations.\n",
      "  job = estimator.run(circuits=[circ_test_2, circ_test_2], observables=observables)\n",
      "/home/jesshuan/miniconda3/envs/torch_quantum/lib/python3.12/site-packages/qiskit_ibm_runtime/qiskit_runtime_service.py:935: UserWarning: Cloud simulators have been deprecated and will be removed on 15 May 2024. Use the new local testing mode in qiskit-ibm-runtime version 0.22.0 or later to meet your debugging needs.\n",
      "  warnings.warn(warning_message)\n"
     ]
    },
    {
     "name": "stdout",
     "output_type": "stream",
     "text": [
      "Estimator results: EstimatorResult(values=array([-1.,  0.]), metadata=[{'variance': 0.0, 'shots': 32}, {'variance': 1.0, 'shots': 32}])\n"
     ]
    }
   ],
   "source": [
    "observables = [\"ZI\", \"IZ\"]\n",
    "\n",
    "\n",
    "with Session(service=service, backend=backend) as session:\n",
    "\n",
    "    estimator = Estimator(session=session, options=options)\n",
    "    job = estimator.run(circuits=[circ_test_2, circ_test_2], observables=observables)\n",
    "    print(f\"Estimator results: {job.result()}\")"
   ]
  },
  {
   "cell_type": "code",
   "execution_count": 87,
   "metadata": {},
   "outputs": [
    {
     "data": {
      "text/plain": [
       "array([-1.   ,  0.125])"
      ]
     },
     "execution_count": 87,
     "metadata": {},
     "output_type": "execute_result"
    }
   ],
   "source": [
    "job.result().values"
   ]
  }
 ],
 "metadata": {
  "kernelspec": {
   "display_name": "retnet_experiment",
   "language": "python",
   "name": "python3"
  },
  "language_info": {
   "codemirror_mode": {
    "name": "ipython",
    "version": 3
   },
   "file_extension": ".py",
   "mimetype": "text/x-python",
   "name": "python",
   "nbconvert_exporter": "python",
   "pygments_lexer": "ipython3",
   "version": "3.12.2"
  }
 },
 "nbformat": 4,
 "nbformat_minor": 2
}
